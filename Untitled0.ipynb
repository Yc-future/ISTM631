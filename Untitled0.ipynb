{
  "nbformat": 4,
  "nbformat_minor": 0,
  "metadata": {
    "colab": {
      "name": "Untitled0.ipynb",
      "provenance": [],
      "authorship_tag": "ABX9TyMM8EbGA8HqeDftPuKCki6l",
      "include_colab_link": true
    },
    "kernelspec": {
      "name": "python3",
      "display_name": "Python 3"
    }
  },
  "cells": [
    {
      "cell_type": "markdown",
      "metadata": {
        "id": "view-in-github",
        "colab_type": "text"
      },
      "source": [
        "<a href=\"https://colab.research.google.com/github/Yc-future/ISTM631/blob/note/Untitled0.ipynb\" target=\"_parent\"><img src=\"https://colab.research.google.com/assets/colab-badge.svg\" alt=\"Open In Colab\"/></a>"
      ]
    },
    {
      "cell_type": "code",
      "metadata": {
        "id": "j13wr4pWvxFN"
      },
      "source": [
        "import pandas_datareader.data as web\n",
        "import pandas_datareader as pdr\n",
        "import pandas as pd\n",
        "import matplotlib.pyplot as plt\n",
        "import numpy as np\n",
        "from scipy.optimize import minimize\n",
        "import datetime \n",
        "\n",
        "start=datetime.datetime(2018, 10, 1)\n",
        "end=datetime.datetime(2020, 11, 4)\n",
        "def get_risk(prices):\n",
        "    return (prices / prices.shift(30) - 1).dropna().std().values\n",
        "\n",
        "def get_return(prices):\n",
        "    return ((prices / prices.shift(30) - 1).dropna().mean() * np.sqrt(30)).values\n",
        "\n",
        "\n",
        "symbols = ['AAPL', 'MSFT', 'IBM', 'GOOG']\n",
        "prices = pd.DataFrame(index=pd.date_range(start, end))\n"
      ],
      "execution_count": 5,
      "outputs": []
    },
    {
      "cell_type": "code",
      "metadata": {
        "id": "h7Fw5fBOwF9a",
        "outputId": "b1f715a4-7b5e-4f4b-d1c6-437b749b852b",
        "colab": {
          "base_uri": "https://localhost:8080/",
          "height": 501
        }
      },
      "source": [
        "for symbol in symbols:\n",
        "    portfolio = pdr.get_data_yahoo(symbol, start=start, end=end)\n",
        "    close = portfolio[['Adj Close']]\n",
        "    close = close.rename(columns={'Adj Close': symbol})\n",
        "    prices[symbol] = close\n",
        "\n",
        "prices['AAPL'].hist(bins=50, figsize=(12,8))\n",
        "\n",
        "\n",
        "\n",
        "\n",
        "\n",
        "\n"
      ],
      "execution_count": 6,
      "outputs": [
        {
          "output_type": "execute_result",
          "data": {
            "text/plain": [
              "<matplotlib.axes._subplots.AxesSubplot at 0x7f671a5739b0>"
            ]
          },
          "metadata": {
            "tags": []
          },
          "execution_count": 6
        },
        {
          "output_type": "display_data",
          "data": {
            "image/png": "[encoded data removed]",
            "text/plain": [
              "<Figure size 864x576 with 1 Axes>"
            ]
          },
          "metadata": {
            "tags": [],
            "needs_background": "light"
          }
        }
      ]
    },
    {
      "cell_type": "code",
      "metadata": {
        "id": "mvmq4yuZwWGO",
        "outputId": "5e99b768-c85f-448d-f908-90af4a154e8c",
        "colab": {
          "base_uri": "https://localhost:8080/"
        }
      },
      "source": [
        "prices['AAPL'].mean()"
      ],
      "execution_count": 7,
      "outputs": [
        {
          "output_type": "execute_result",
          "data": {
            "text/plain": [
              "66.47263154116544"
            ]
          },
          "metadata": {
            "tags": []
          },
          "execution_count": 7
        }
      ]
    },
    {
      "cell_type": "code",
      "metadata": {
        "id": "CyDgdUWswbGC",
        "outputId": "beb4dcc0-db2b-4c99-8924-e4994178acbb",
        "colab": {
          "base_uri": "https://localhost:8080/"
        }
      },
      "source": [
        "prices['AAPL'].std()\n"
      ],
      "execution_count": 8,
      "outputs": [
        {
          "output_type": "execute_result",
          "data": {
            "text/plain": [
              "23.96295876848628"
            ]
          },
          "metadata": {
            "tags": []
          },
          "execution_count": 8
        }
      ]
    },
    {
      "cell_type": "code",
      "metadata": {
        "id": "NPvqhFhxwytC"
      },
      "source": [
        "mean = prices['AAPL'].mean()\n",
        "std = prices['AAPL'].std()\n",
        "\n",
        "\n",
        "def z_score(value, mean, std):\n",
        "    return (value - mean) / std\n",
        "    "
      ],
      "execution_count": 9,
      "outputs": []
    },
    {
      "cell_type": "code",
      "metadata": {
        "id": "S2PXSLjaw0aq",
        "outputId": "e951fa79-c27d-45b9-f9b2-3c99ae280209",
        "colab": {
          "base_uri": "https://localhost:8080/"
        }
      },
      "source": [
        "z_score(100, mean, std)\n"
      ],
      "execution_count": 10,
      "outputs": [
        {
          "output_type": "execute_result",
          "data": {
            "text/plain": [
              "1.399133086308459"
            ]
          },
          "metadata": {
            "tags": []
          },
          "execution_count": 10
        }
      ]
    },
    {
      "cell_type": "markdown",
      "metadata": {
        "id": "G6dAylnDwJvj"
      },
      "source": [
        ""
      ]
    }
  ]
}